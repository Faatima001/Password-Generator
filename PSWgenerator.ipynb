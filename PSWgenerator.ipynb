{
 "cells": [
  {
   "cell_type": "code",
   "execution_count": 6,
   "metadata": {},
   "outputs": [
    {
     "name": "stdout",
     "output_type": "stream",
     "text": [
      "Welcome to the PyPassword Generator!\n",
      "['f', 'J', 'N', 'N', 'w', '+', '*', '$', '!', '7', '9', '7', '6']\n",
      "['N', 'w', '*', '7', '7', '$', '6', '!', '+', 'N', 'f', 'J', '9']\n",
      "Your password is: Nw*77$6!+NfJ9\n"
     ]
    }
   ],
   "source": [
    "# Password Generator\n",
    "\n",
    "import random\n",
    "letters = ['a', 'b', 'c', 'd', 'e', 'f', 'g', 'h', 'i', 'j', 'k', 'l', 'm', 'n', 'o', 'p', 'q', 'r', 's', 't', 'u', 'v', 'w', 'x', 'y', 'z', 'A', 'B', 'C', 'D', 'E', 'F', 'G', 'H', 'I', 'J', 'K', 'L', 'M', 'N', 'O', 'P', 'Q', 'R', 'S', 'T', 'U', 'V', 'W', 'X', 'Y', 'Z']\n",
    "numbers = ['0', '1', '2', '3', '4', '5', '6', '7', '8', '9']\n",
    "symbols = ['!', '#', '$', '%', '&', '(', ')', '*', '+']\n",
    "\n",
    "print(\"Welcome to the PyPassword Generator!\")\n",
    "nr_letters = int(input(\"How many letters would you like in your password?\\n\"))\n",
    "nr_symbols = int(input(f\"How many symbols would you like?\\n\"))\n",
    "nr_numbers = int(input(f\"How many numbers would you like?\\n\"))\n",
    "\n",
    "#Easy level\n",
    "\"\"\" password = \"\"\n",
    "\n",
    "for char in range(0,nr_letters): \n",
    "    password += random.choice(letters)\n",
    "\n",
    "for char in range(0,nr_symbols): \n",
    "    password += random.choice(symbols)\n",
    "\n",
    "for char in range(0,nr_numbers + 1): \n",
    "    password += random.choice(numbers)    \n",
    "\n",
    "print(password) \"\"\"\n",
    "\n",
    "#Difficult way\n",
    "\n",
    "password_list = []\n",
    "\n",
    "for char in range(0,nr_letters): \n",
    "    password_list.append(random.choice(letters))\n",
    "\n",
    "for char in range(0,nr_symbols): \n",
    "    password_list.append(random.choice(symbols))\n",
    "\n",
    "for char in range(0,nr_numbers + 1): \n",
    "    password_list.append(random.choice(numbers))  \n",
    "\n",
    "print(password_list)\n",
    "random.shuffle(password_list)\n",
    "print(password_list)\n",
    "\n",
    "password=\"\"\n",
    "for char in password_list:\n",
    "   password += char\n",
    "\n",
    "print(\"Your password is: \" + password) \n"
   ]
  },
  {
   "cell_type": "code",
   "execution_count": null,
   "metadata": {},
   "outputs": [],
   "source": []
  }
 ],
 "metadata": {
  "kernelspec": {
   "display_name": "Python 3",
   "language": "python",
   "name": "python3"
  },
  "language_info": {
   "codemirror_mode": {
    "name": "ipython",
    "version": 3
   },
   "file_extension": ".py",
   "mimetype": "text/x-python",
   "name": "python",
   "nbconvert_exporter": "python",
   "pygments_lexer": "ipython3",
   "version": "3.11.3"
  }
 },
 "nbformat": 4,
 "nbformat_minor": 2
}
